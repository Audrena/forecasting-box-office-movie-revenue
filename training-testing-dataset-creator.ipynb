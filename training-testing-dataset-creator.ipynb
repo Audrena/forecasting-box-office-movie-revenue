{
 "cells": [
  {
   "cell_type": "markdown",
   "metadata": {},
   "source": [
    "<img src=\"introduction.PNG\">"
   ]
  },
  {
   "cell_type": "markdown",
   "metadata": {},
   "source": [
    "# Introduction"
   ]
  },
  {
   "cell_type": "markdown",
   "metadata": {},
   "source": [
    "Envision a use case involving a marketing team for a movie studio that wants to do \n",
    "targeted advertising each week before the weekend at the box-office. In order to do so, they must identify movies\n",
    "that they believe will underperform in the upcoming weekend. The team therefore needs revenue predictions \n",
    "each week for all the movies at the box-office for the upcoming weekend. Before the weekend begins, they will \n",
    "use these predictions in order to formulate their targeted marketing campaigns. Here, we focus on the movie revenue \n",
    "predictions.\n",
    "\n",
    "In this notebook, we create the master dataset to be used for the training and testing of a machine learning model that can \n",
    "predict weekend box office revenue. \n",
    "\n",
    "Here, a number of features are pulled in as part of the dataset to support this effort. The dataset is \n",
    "saved as a csv file so that it can be used by a machine learning framework for analysis (Azure ML Studio).\n",
    "\n",
    "The resulting dataset is a matrix that we shall refer to as $\\boldsymbol{X}$. Each row contains information about \n",
    "a single movie on a single weekend. The label vector, $\\boldsymbol{y}$, contains the actual gross revenue \n",
    "recorded for the movie in the associated row of $\\boldsymbol{X}$.\n",
    "\n",
    "From this dataset, in the next notebook, we will create our feature correlations, $\\rho_{i,\\boldsymbol{y}}$, \n",
    "and our machine learning model, $\\psi$.\n",
    "\n",
    "Finally, as part of the data setup in this workbook, we create a dataset consisting of movies at the box-office for \n",
    "a single weekend (the upcoming weekend) to which we eventually apply the model, $\\psi$, in a subsequent notebook. In this case,\n",
    "$\\psi$ is encapsulated in a deployed web-service created by Azure ML Studio.\n",
    "\n",
    "General Azure ML Studio info:\n",
    "-  https://docs.microsoft.com/en-us/azure/machine-learning/studio/what-is-ml-studio\n"
   ]
  },
  {
   "cell_type": "markdown",
   "metadata": {},
   "source": [
    "# Data Source"
   ]
  },
  {
   "cell_type": "markdown",
   "metadata": {},
   "source": [
    "http://www.the-numbers.com"
   ]
  },
  {
   "cell_type": "markdown",
   "metadata": {},
   "source": [
    "# Import Libraries "
   ]
  },
  {
   "cell_type": "code",
   "execution_count": 2,
   "metadata": {
    "collapsed": true
   },
   "outputs": [],
   "source": [
    "import requests\n",
    "from bs4 import BeautifulSoup\n",
    "from datetime import datetime\n",
    "import numpy as np\n",
    "import pandas as pd\n",
    "from IPython.core.debugger import Tracer\n"
   ]
  },
  {
   "cell_type": "markdown",
   "metadata": {
    "collapsed": true
   },
   "source": [
    "# Pull in top 5 actors in a movie"
   ]
  },
  {
   "cell_type": "markdown",
   "metadata": {},
   "source": [
    "The gross revenue of a movie in a given weekend may depend on the actors that are in the movie."
   ]
  },
  {
   "cell_type": "code",
   "execution_count": 3,
   "metadata": {
    "collapsed": false
   },
   "outputs": [],
   "source": [
    "# Pull the actors for a movie\n",
    "def pull_actors(cast_and_crew_link):\n",
    "\n",
    "    url = \"http://www.the-numbers.com\" + cast_and_crew_link;\n",
    "    response = requests.get(url);\n",
    "    page = response.text;\n",
    "    soup = BeautifulSoup(page, \"lxml\");\n",
    "    rows = soup.find_all(id=\"cast\")[0:1]; #slice notation [0:1]\n",
    "    actors = []\n",
    "    for row in rows:\n",
    "        cols = row.find_all('a')\n",
    "        cols = [ele.text.strip() for ele in cols]\n",
    "        actors.append(cols)\n",
    "\n",
    "    ret = []\n",
    "    \n",
    "    if (len(actors) > 0):\n",
    "        count = 0;\n",
    "        for i in range(0, len(actors[0])):\n",
    "            if (count >= 5):\n",
    "                break\n",
    "\n",
    "            ret.append(actors[0][i])\n",
    "            count += 1;\n",
    "        \n",
    "    extra = 5 - len(ret)\n",
    "    for i in range(0, extra):\n",
    "        ret.append('None')\n",
    "        \n",
    "    return ret\n",
    "    "
   ]
  },
  {
   "cell_type": "code",
   "execution_count": 4,
   "metadata": {
    "collapsed": false
   },
   "outputs": [
    {
     "name": "stdout",
     "output_type": "stream",
     "text": [
      "['Leslie Nielsen', 'Kelly Lynch', 'Malcolm McDowell', 'Nick Chinlund', 'Stephen Tobolowsky']\n"
     ]
    }
   ],
   "source": [
    "actors = pull_actors(\"/movie/Mr-Magoo#tab=cast-and-crew\")\n",
    "print(actors)"
   ]
  },
  {
   "cell_type": "markdown",
   "metadata": {
    "collapsed": true
   },
   "source": [
    "# Pull in additional summary info - runtime, rating, genre, release type"
   ]
  },
  {
   "cell_type": "markdown",
   "metadata": {},
   "source": [
    "Here, additional features are pulled that might provide additional predictive power for the gross revenue of a movie."
   ]
  },
  {
   "cell_type": "code",
   "execution_count": 5,
   "metadata": {
    "collapsed": false
   },
   "outputs": [],
   "source": [
    "# Pulls additional summary info from\n",
    "# for a movie such as run time, rating, and genre\n",
    "def pull_summary(summary_link):\n",
    "\n",
    "    url = \"http://www.the-numbers.com\" + summary_link;\n",
    "    #url = \"http://www.the-numbers.com/movie/Mr-Magoo#tab=summary\"\n",
    "    #print(url)\n",
    "    response = requests.get(url);\n",
    "    page = response.text;\n",
    "    soup = BeautifulSoup(page, \"lxml\");\n",
    "    tables = soup.find_all('table');\n",
    "    sum_table = tables[3]\n",
    "    tds = sum_table.find_all('td');\n",
    "    ret = []\n",
    "    \n",
    "    count = 0;\n",
    "    runtime = \"90\"\n",
    "    rating = \"None\"\n",
    "    genre = \"None\"\n",
    "    release = \"None\"\n",
    "    for td in tds:\n",
    "        text = td.text\n",
    "        \n",
    "        # Run Time of Movie\n",
    "        # Stripped to just be a number\n",
    "        if (text == \"Running Time:\"):\n",
    "            value = tds[count + 1].text;\n",
    "            value = value.replace(' minutes', '')\n",
    "            runtime = value \n",
    "            \n",
    "        # Rating of the movie PG-13 / R etc.\n",
    "        if ('MPAA' in text):\n",
    "            value = tds[count + 1];\n",
    "            a = value.find_all('a')\n",
    "            rating = a[0].text\n",
    "            \n",
    "        # Genre of the movie\n",
    "        if ('Genre' in text):\n",
    "            value = tds[count + 1];\n",
    "            genre = value.text\n",
    "           \n",
    "        # Wide vs Limtited domestic release\n",
    "        if ('Domestic Releases' in text):\n",
    "            value = tds[count + 1];\n",
    "            val_str = str(value);\n",
    "            start = val_str.index('(');\n",
    "            stop = val_str.index(')');\n",
    "            release = val_str[start+1:stop];\n",
    "        \n",
    "        count += 1;\n",
    "    \n",
    "    ret.append(runtime)\n",
    "    ret.append(rating)\n",
    "    ret.append(genre)\n",
    "    ret.append(release)\n",
    "    return ret"
   ]
  },
  {
   "cell_type": "code",
   "execution_count": 6,
   "metadata": {
    "collapsed": false
   },
   "outputs": [
    {
     "name": "stdout",
     "output_type": "stream",
     "text": [
      "['87', 'PG', 'Comedy', 'Wide']\n"
     ]
    }
   ],
   "source": [
    "ret = pull_summary(\"/movie/Mr-Magoo#tab=summary\")\n",
    "print(ret)"
   ]
  },
  {
   "cell_type": "markdown",
   "metadata": {},
   "source": [
    "# Create Master Dataset"
   ]
  },
  {
   "cell_type": "markdown",
   "metadata": {},
   "source": [
    "Download weekend box office data from the-numbers.com for a given date range. This data will be used for the training and \n",
    "statistical validation of the machine learning models. Note that the download process is a bit slow and also that this function\n",
    "is not very robust. If something fails in the middle of execution, the entire dataset is lost. This can be improved in a lot \n",
    "of places, but for now it serves its purpose.\n",
    "\n",
    "Note also that predictions are only being made for movies that already exist at the box-office. In other words, opening weekends\n",
    "for a movie are not being predicted.\n",
    "\n",
    "The resulting dataset is matrix $\\boldsymbol{X}$ with the 'gross' column as label vector $\\boldsymbol{y}$.\n",
    "\n",
    "**Output - Training and Validation:**\n",
    "-  box_office_training_validation_dataset.csv\n",
    "-  Note: Before uploading the csv file to Azure Studio make sure that all numerical columns are converted as such. For\n",
    "    example the gross column contains money and therefore needs to be converted to numerical format.\n",
    "\n",
    "**Associated Azure ML Studio Experiments (referenced in following notebook):**\n",
    "-  https://gallery.cortanaintelligence.com/Experiment/Feature-Correlations-Weekend-Box-Office-Movie-Revenue\n",
    "-  https://gallery.cortanaintelligence.com/Experiment/Forecasting-Weekend-Box-Office-Movie-Revenue-5"
   ]
  },
  {
   "cell_type": "code",
   "execution_count": null,
   "metadata": {
    "collapsed": true
   },
   "outputs": [],
   "source": [
    "#Tracer()() #this one triggers the debugger\n",
    "\n",
    "# Download weekend box-office numbers for the follow date range.\n",
    "# Note that the box-office revenue numbers for a week start on the friday of that week.\n",
    "# Dates that aren't a friday, where the numbers are recorded, will be skipped.\n",
    "#datelist = pd.date_range('2017-09-01', '2017-09-15').tolist()\n",
    "datelist = pd.date_range('2010-01-01', '2017-11-14').tolist()\n",
    "#datelist = pd.date_range('2011-01-01', '2011-03-01').tolist()\n",
    "\n",
    "# Used for calculating some additional features\n",
    "all_week_movie_gross_map = dict();\n",
    "all_week_movie_theaters_map = dict();\n",
    "\n",
    "movieData = []\n",
    "for date in datelist:\n",
    "    year = date.strftime('%Y')\n",
    "    month = date.strftime('%m')\n",
    "    day = date.strftime('%d')\n",
    "    \n",
    "    # Weekend box office\n",
    "    url = \"http://www.the-numbers.com/box-office-chart/weekend/\"+year+\"/\"+month+\"/\"+day\n",
    "    \n",
    "    # Try twice in case it times out\n",
    "    try:\n",
    "        response = requests.get(url);\n",
    "    except:\n",
    "        response = requests.get(url);\n",
    "        \n",
    "    page = response.text\n",
    "    soup = BeautifulSoup(page, \"lxml\")\n",
    "    rows = soup.find_all(id=\"page_filling_chart\")[1].find_all('tr')[1:]\n",
    "    \n",
    "    # Iterate all movies for a given weekend\n",
    "    x = 0;\n",
    "    for row in rows:\n",
    "        if x > 14: # Only top 15 movies per weekend\n",
    "            break\n",
    "                        \n",
    "        cols = row.find_all('td')\n",
    "        cols = [ele.text.strip() for ele in cols]      \n",
    "        \n",
    "        # Last weeks gross map\n",
    "        movie = cols[2];\n",
    "        if movie not in all_week_movie_gross_map:\n",
    "            all_week_movie_gross_map[movie] = ['0']\n",
    "            all_week_movie_gross_map[movie].append(cols[4])\n",
    "        else:\n",
    "            vals = all_week_movie_gross_map[movie]\n",
    "            vals.append(cols[4])\n",
    "        \n",
    "        # Last weeks theaters map\n",
    "        if movie not in all_week_movie_theaters_map:\n",
    "            all_week_movie_theaters_map[movie] = ['0']\n",
    "            all_week_movie_theaters_map[movie].append(cols[6])\n",
    "        else:\n",
    "            vals = all_week_movie_theaters_map[movie]\n",
    "            vals.append(cols[6])\n",
    "        \n",
    "        cols.insert(len(cols),date.strftime('%Y-%m-%d'))\n",
    "        cols.insert(len(cols), year)\n",
    "        cols.insert(len(cols), month)\n",
    "        cols.insert(len(cols), day)\n",
    "        \n",
    "        # Get the cast and crew\n",
    "        links = row.find_all('a')\n",
    "        movie_link = links[0].get('href') # should be first one\n",
    "        cast_and_crew_link = movie_link.replace('box-office', 'cast-and-crew') # need the right tab\n",
    "        summary_link = movie_link.replace('box-office', 'summary') # need the right tab\n",
    "        actors = pull_actors(cast_and_crew_link)\n",
    "        summary_elements = pull_summary(summary_link)\n",
    "        cols.extend(actors[0:5])\n",
    "        cols.extend(summary_elements)\n",
    "        \n",
    "        # add previous week gross\n",
    "        gross_vals = all_week_movie_gross_map[movie]\n",
    "        gross_val = gross_vals[len(gross_vals)-2]\n",
    "        cols.append(gross_val)\n",
    "        \n",
    "        # add previous week theaters\n",
    "        theater_vals = all_week_movie_theaters_map[movie]\n",
    "        theater_val = theater_vals[len(theater_vals)-2]\n",
    "        cols.append(theater_val)\n",
    "        \n",
    "        # only movies that have been out for at least a week\n",
    "        # no new releases\n",
    "        if ((cols[1] != 'new') & (gross_val != '0')) :\n",
    "            movieData.append(cols)\n",
    "            x = x + 1\n",
    "        \n",
    "   # break\n",
    "    \n",
    "    # Keep track of how far we are because it takes forever\n",
    "    if (len(rows) > 0) :\n",
    "        print(date)\n",
    "\n",
    "# Write the dataset to file\n",
    "# This file can be pulled into a machine learning framework for analysis\n",
    "#print(movieData)\n",
    "df = pd.DataFrame(movieData)\n",
    "allcols = ['rank', 'something', 'movie', 'distributor', 'gross', 'change']\n",
    "allcols.extend(['theatres', 'per_theatre', 'total_gross','days','date'])\n",
    "allcols.extend(['year', 'month', 'day',])\n",
    "allcols.extend(['actor1','actor2','actor3','actor4','actor5',])\n",
    "allcols.extend(['runtime','rating','genre','release_type','previous_week_gross','previous_week_theaters'])\n",
    "df.columns = allcols\n",
    "#df.to_csv('box_office_training_validation_dataset.csv')\n"
   ]
  },
  {
   "cell_type": "markdown",
   "metadata": {
    "collapsed": true
   },
   "source": [
    "# Create next week dataset"
   ]
  },
  {
   "cell_type": "markdown",
   "metadata": {},
   "source": [
    "This chunk of code creates the dataset to be fed to a model to predict the revenue of the box office for a given weekend.\n",
    "It assumes that the dates provided in the date range represent the weekend that has just passed and predictions are to \n",
    "be made for the upcoming weekend. Example - I want to predict the box office revenue for each movie for the weekend \n",
    "starting on Friday 11/17 - Set date range 2017-11-07 - 2017-11-14 so that data for the previous weekend is captured. \n",
    "\n",
    "**Output - Weekly Predictions:**\n",
    "-  box_office_next_week_dataset.csv\n",
    "\n",
    "For each row, $\\boldsymbol{x_i}$, of the dataset, $\\boldsymbol{X}$, we will eventually call our prediction function, \n",
    "$\\psi(\\boldsymbol{x_i})$ in a subsequent notebook.\n",
    "\n",
    "**Associated Azure ML Studio Experiments (referenced in following notebook):**\n",
    "-  https://gallery.cortanaintelligence.com/Experiment/Forecasting-Weekend-Box-Office-Movie-Revenue-Predictive-Exp"
   ]
  },
  {
   "cell_type": "code",
   "execution_count": 9,
   "metadata": {
    "collapsed": false
   },
   "outputs": [
    {
     "name": "stdout",
     "output_type": "stream",
     "text": [
      "2017-11-07 00:00:00\n",
      "2017-11-08 00:00:00\n",
      "2017-11-09 00:00:00\n",
      "2017-11-10 00:00:00\n",
      "2017-11-10 00:00:00\n",
      "2017-11-11 00:00:00\n",
      "2017-11-12 00:00:00\n",
      "2017-11-13 00:00:00\n",
      "2017-11-14 00:00:00\n"
     ]
    }
   ],
   "source": [
    "#Tracer()() #this one triggers the debugger\n",
    "\n",
    "# Pulls data from the friday of 2017-11-10 to predict the revenue\n",
    "# of movies for the week of 11-17-2017.\n",
    "datelist = pd.date_range('2017-11-07', '2017-11-14').tolist()\n",
    "\n",
    "movieData = []\n",
    "for date in datelist:\n",
    "    print(date)\n",
    "    year = date.strftime('%Y')\n",
    "    month = date.strftime('%m')\n",
    "    day = date.strftime('%d')\n",
    "    \n",
    "    # Weekend box office\n",
    "    url = \"http://www.the-numbers.com/box-office-chart/weekend/\"+year+\"/\"+month+\"/\"+day\n",
    "    \n",
    "    # Try twice in case it times out\n",
    "    try:\n",
    "        response = requests.get(url);\n",
    "    except:\n",
    "        response = requests.get(url);\n",
    "        \n",
    "    page = response.text\n",
    "    soup = BeautifulSoup(page, \"lxml\")\n",
    "    rows = soup.find_all(id=\"page_filling_chart\")[1].find_all('tr')[1:]\n",
    "    \n",
    "    # Iterate all movies for a given weekend\n",
    "    x = 0;\n",
    "    for row in rows:\n",
    "        if x > 20: # Only top 15 movies per weekend\n",
    "            break\n",
    "                        \n",
    "        cols = row.find_all('td')\n",
    "        cols = [ele.text.strip() for ele in cols]      \n",
    "        \n",
    "        # Last weeks gross map\n",
    "        movie = cols[2];\n",
    "        \n",
    "        cols.insert(len(cols),date.strftime('%Y-%m-%d'))\n",
    "        cols.insert(len(cols), year)\n",
    "        cols.insert(len(cols), month)\n",
    "        cols.insert(len(cols), day)\n",
    "        \n",
    "        # Get the cast and crew\n",
    "        links = row.find_all('a')\n",
    "        movie_link = links[0].get('href') # should be first one\n",
    "        cast_and_crew_link = movie_link.replace('box-office', 'cast-and-crew') # need the right tab\n",
    "        summary_link = movie_link.replace('box-office', 'summary') # need the right tab\n",
    "        actors = pull_actors(cast_and_crew_link)\n",
    "        summary_elements = pull_summary(summary_link)\n",
    "        cols.extend(actors[0:5])\n",
    "        cols.extend(summary_elements)\n",
    "        \n",
    "        # add previous week gross\n",
    "        # in this case it's the same as this weeks gross\n",
    "        # since we are predicting for next week\n",
    "        gross_val = cols[4]\n",
    "        cols.append(gross_val)\n",
    "        \n",
    "        # add previous week theaters\n",
    "        # in this case it's the same as this weeks theaters\n",
    "        # since we are predicting for next week\n",
    "        theater_val = cols[6]\n",
    "        cols.append(theater_val)\n",
    "        \n",
    "        # record the week\n",
    "        movieData.append(cols)\n",
    "        x = x + 1\n",
    "        \n",
    "   # break\n",
    "    \n",
    "    # Keep track of how far we are because it takes forever\n",
    "    if (len(rows) > 0) :\n",
    "        print(date)\n",
    "\n",
    "# Write the dataset to file so that it can be fed to the deployed model web service\n",
    "df = pd.DataFrame(movieData)\n",
    "allcols = ['rank', 'something', 'movie', 'distributor', 'gross', 'change']\n",
    "allcols.extend(['theatres', 'per_theatre', 'total_gross','days','date'])\n",
    "allcols.extend(['year', 'month', 'day',])\n",
    "allcols.extend(['actor1','actor2','actor3','actor4','actor5',])\n",
    "allcols.extend(['runtime','rating','genre','release_type','previous_week_gross','previous_week_theaters'])\n",
    "df.columns = allcols\n",
    "df.to_csv('box_office_next_week_dataset.csv')"
   ]
  },
  {
   "cell_type": "code",
   "execution_count": null,
   "metadata": {
    "collapsed": true
   },
   "outputs": [],
   "source": []
  }
 ],
 "metadata": {
  "kernelspec": {
   "display_name": "Python 3",
   "language": "python",
   "name": "python3"
  },
  "language_info": {
   "codemirror_mode": {
    "name": "ipython",
    "version": 3
   },
   "file_extension": ".py",
   "mimetype": "text/x-python",
   "name": "python",
   "nbconvert_exporter": "python",
   "pygments_lexer": "ipython3",
   "version": "3.6.0"
  }
 },
 "nbformat": 4,
 "nbformat_minor": 2
}
